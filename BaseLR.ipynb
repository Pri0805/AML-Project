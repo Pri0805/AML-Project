{
 "cells": [
  {
   "cell_type": "code",
   "execution_count": 2,
   "id": "30b29bb7",
   "metadata": {},
   "outputs": [
    {
     "name": "stdout",
     "output_type": "stream",
     "text": [
      "\u001b[33mWARNING: Skipping umap as it is not installed.\u001b[0m\u001b[33m\n",
      "\u001b[0mCollecting umap-learn\n",
      "  Downloading umap-learn-0.5.5.tar.gz (90 kB)\n",
      "\u001b[2K     \u001b[90m━━━━━━━━━━━━━━━━━━━━━━━━━━━━━━━━━━━━━━━\u001b[0m \u001b[32m90.9/90.9 kB\u001b[0m \u001b[31m316.2 kB/s\u001b[0m eta \u001b[36m0:00:00\u001b[0m \u001b[36m0:00:01\u001b[0m\n",
      "\u001b[?25h  Preparing metadata (setup.py) ... \u001b[?25ldone\n",
      "\u001b[?25hRequirement already satisfied: numpy>=1.17 in /Users/angky/anaconda3/lib/python3.11/site-packages (from umap-learn) (1.24.3)\n",
      "Requirement already satisfied: scipy>=1.3.1 in /Users/angky/anaconda3/lib/python3.11/site-packages (from umap-learn) (1.11.1)\n",
      "Requirement already satisfied: scikit-learn>=0.22 in /Users/angky/anaconda3/lib/python3.11/site-packages (from umap-learn) (1.3.0)\n",
      "Requirement already satisfied: numba>=0.51.2 in /Users/angky/anaconda3/lib/python3.11/site-packages (from umap-learn) (0.57.1)\n",
      "Collecting pynndescent>=0.5 (from umap-learn)\n",
      "  Obtaining dependency information for pynndescent>=0.5 from https://files.pythonhosted.org/packages/4e/82/0b9851a2fd4da9b57d7931446f5ebab92a98f1f35d3dc0dae5f9ed50a462/pynndescent-0.5.11-py3-none-any.whl.metadata\n",
      "  Downloading pynndescent-0.5.11-py3-none-any.whl.metadata (6.8 kB)\n",
      "Requirement already satisfied: tqdm in /Users/angky/anaconda3/lib/python3.11/site-packages (from umap-learn) (4.65.0)\n",
      "Requirement already satisfied: llvmlite<0.41,>=0.40.0dev0 in /Users/angky/anaconda3/lib/python3.11/site-packages (from numba>=0.51.2->umap-learn) (0.40.0)\n",
      "Requirement already satisfied: joblib>=0.11 in /Users/angky/anaconda3/lib/python3.11/site-packages (from pynndescent>=0.5->umap-learn) (1.2.0)\n",
      "Requirement already satisfied: threadpoolctl>=2.0.0 in /Users/angky/anaconda3/lib/python3.11/site-packages (from scikit-learn>=0.22->umap-learn) (2.2.0)\n",
      "Downloading pynndescent-0.5.11-py3-none-any.whl (55 kB)\n",
      "\u001b[2K   \u001b[90m━━━━━━━━━━━━━━━━━━━━━━━━━━━━━━━━━━━━━━━━\u001b[0m \u001b[32m55.8/55.8 kB\u001b[0m \u001b[31m3.9 MB/s\u001b[0m eta \u001b[36m0:00:00\u001b[0m\n",
      "\u001b[?25hBuilding wheels for collected packages: umap-learn\n",
      "  Building wheel for umap-learn (setup.py) ... \u001b[?25ldone\n",
      "\u001b[?25h  Created wheel for umap-learn: filename=umap_learn-0.5.5-py3-none-any.whl size=86837 sha256=921d25cf5fb5d31f5e41bb075f238dabe89160d9861b0aa5bd22cb4d96f6f2ab\n",
      "  Stored in directory: /Users/angky/Library/Caches/pip/wheels/de/07/2e/814a6ee82e37528f2044a609a431028375b149bc31f03c0e27\n",
      "Successfully built umap-learn\n",
      "Installing collected packages: pynndescent, umap-learn\n",
      "Successfully installed pynndescent-0.5.11 umap-learn-0.5.5\n"
     ]
    }
   ],
   "source": [
    "# installing libraries\n",
    "!pip uninstall umap --yes\n",
    "!pip install umap-learn"
   ]
  },
  {
   "cell_type": "code",
   "execution_count": 3,
   "id": "67970cb3",
   "metadata": {},
   "outputs": [],
   "source": [
    "# importing libraries\n",
    "import pandas as pd\n",
    "import numpy as np\n",
    "import matplotlib.pyplot as plt\n",
    "import re\n",
    "# import umap\n",
    "import umap.umap_ as umap\n",
    "from collections import defaultdict\n",
    "\n",
    "from scipy import linalg, spatial\n",
    "from sklearn.cluster import KMeans\n",
    "from sklearn.decomposition import PCA, SparsePCA, TruncatedSVD\n",
    "from sklearn.feature_extraction.text import (CountVectorizer, TfidfTransformer, TfidfVectorizer)\n",
    "\n",
    "from sklearn.utils.extmath import randomized_svd\n",
    "\n",
    "from nltk.tokenize import word_tokenize\n",
    "from nltk.corpus import stopwords\n",
    "from nltk.stem import PorterStemmer"
   ]
  },
  {
   "cell_type": "code",
   "execution_count": 4,
   "id": "fc48aa3a",
   "metadata": {},
   "outputs": [
    {
     "name": "stdout",
     "output_type": "stream",
     "text": [
      "                     title                                        description  \\\n",
      "0  The Old Man and the Sea  Librarian's note: An alternate cover edition c...   \n",
      "1       The Vampire Lestat  Lestat. The vampire hero of Anne Rice's enthra...   \n",
      "2     The Poisonwood Bible  The Poisonwood Bible is a story told by the wi...   \n",
      "3        Different Seasons  Includes the stories “The Body” and “Rita Hayw...   \n",
      "4            Invisible Man  First published in 1952 and immediately hailed...   \n",
      "5            Battle Royale  Koushun Takami's notorious high-octane thrille...   \n",
      "6    I'll Give You the Sun  At first, Jude and her twin brother Noah, are ...   \n",
      "7    Because of Winn-Dixie  The summer Opal and her father, the preacher, ...   \n",
      "8            Lover Avenged  Rehvenge has always kept his distance from the...   \n",
      "9                Ficciones  The seventeen pieces in Ficciones demonstrate ...   \n",
      "\n",
      "                               processed_description  cluster  \n",
      "0  librarian note alternate cover edition found h...        3  \n",
      "1  lestat vampire hero anne rice enthralling new ...        1  \n",
      "2  poisonwood bible story told wife four daughter...        0  \n",
      "3  includes story body rita hayworth shawshank re...        0  \n",
      "4  first published immediately hailed masterpiece...        3  \n",
      "5  koushun takami notorious high octane thriller ...        0  \n",
      "6  first jude twin brother noah inseparable noah ...        5  \n",
      "7  summer opal father preacher move naomi florida...        9  \n",
      "8  rehvenge always kept distance brotherhood even...        9  \n",
      "9  seventeen piece ficciones demonstrate whirlwin...        3  \n"
     ]
    }
   ],
   "source": [
    "filename =  '/Users/angky/Cornell/AML/AMLProjectTemp/AML-Project/clustered_books.csv'\n",
    "df = pd.read_csv(filename)\n",
    "print(df.head(10))"
   ]
  },
  {
   "cell_type": "code",
   "execution_count": 5,
   "id": "81366354",
   "metadata": {},
   "outputs": [],
   "source": [
    "df['processed_description'] = df['processed_description'].fillna('')"
   ]
  },
  {
   "cell_type": "code",
   "execution_count": 6,
   "id": "975e869e",
   "metadata": {},
   "outputs": [],
   "source": [
    "from sklearn.model_selection import train_test_split\n",
    "training, development = train_test_split(df, test_size=0.3, random_state=42)"
   ]
  },
  {
   "cell_type": "code",
   "execution_count": 7,
   "id": "f4298583",
   "metadata": {},
   "outputs": [
    {
     "name": "stdout",
     "output_type": "stream",
     "text": [
      "Number of unigram 21605\n"
     ]
    }
   ],
   "source": [
    "from sklearn.feature_extraction.text import CountVectorizer\n",
    "vectorizer = CountVectorizer(binary=True, min_df=2)\n",
    "training_text = training['processed_description']\n",
    "development_text = development['processed_description']\n",
    "\n",
    "X_train_bow = vectorizer.fit_transform(training_text)\n",
    "X_development_bow = vectorizer.transform(development_text)\n",
    "\n",
    "print('Number of unigram', len(vectorizer.get_feature_names_out()))"
   ]
  },
  {
   "cell_type": "code",
   "execution_count": 8,
   "id": "4d0f9ddc",
   "metadata": {},
   "outputs": [
    {
     "name": "stdout",
     "output_type": "stream",
     "text": [
      "Top 10 unigram:\n",
      "'one': 3046\n",
      "'life': 3032\n",
      "'world': 2321\n",
      "'new': 2214\n",
      "'year': 1965\n",
      "'time': 1958\n",
      "'love': 1803\n",
      "'story': 1747\n",
      "'find': 1604\n",
      "'first': 1447\n"
     ]
    }
   ],
   "source": [
    "# Sum the counts of each bigram across all documents\n",
    "unigram_counts = X_train_bow.sum(axis=0)\n",
    "unigram_counts = np.array(unigram_counts).flatten()\n",
    "\n",
    "\n",
    "# Get sorted indices based on counts (in descending order)\n",
    "sorted_indices = unigram_counts.argsort()[::-1]\n",
    "\n",
    "# Retrieve the top 10 unigram and their counts using the indices\n",
    "top_10_unigram = [(vectorizer.get_feature_names_out()[i], unigram_counts[i]) for i in sorted_indices[:10]]\n",
    "\n",
    "print(\"Top 10 unigram:\")\n",
    "for unigram, count in top_10_unigram:\n",
    "    print(f\"'{unigram}': {count}\")"
   ]
  },
  {
   "cell_type": "code",
   "execution_count": 9,
   "id": "704684e9",
   "metadata": {},
   "outputs": [
    {
     "name": "stdout",
     "output_type": "stream",
     "text": [
      "              precision    recall  f1-score   support\n",
      "\n",
      "           0       1.00      1.00      1.00      1304\n",
      "           1       1.00      1.00      1.00       536\n",
      "           2       1.00      1.00      1.00      1016\n",
      "           3       1.00      1.00      1.00       963\n",
      "           4       1.00      1.00      1.00       167\n",
      "           5       1.00      1.00      1.00       489\n",
      "           6       1.00      1.00      1.00        69\n",
      "           7       1.00      0.98      0.99        52\n",
      "           8       0.97      1.00      0.98       196\n",
      "           9       1.00      1.00      1.00      2089\n",
      "          10       1.00      0.98      0.99        98\n",
      "\n",
      "    accuracy                           1.00      6979\n",
      "   macro avg       1.00      1.00      1.00      6979\n",
      "weighted avg       1.00      1.00      1.00      6979\n",
      "\n"
     ]
    }
   ],
   "source": [
    "from sklearn.linear_model import LogisticRegression\n",
    "from sklearn.metrics import classification_report\n",
    "\n",
    "clf = LogisticRegression(max_iter=1000)\n",
    "clf.fit(X_train_bow, training['cluster'])\n",
    "training_target_pred = clf.predict(X_train_bow)\n",
    "print(classification_report(training['cluster'], training_target_pred))"
   ]
  },
  {
   "cell_type": "code",
   "execution_count": 11,
   "id": "c4e6a2ce",
   "metadata": {},
   "outputs": [
    {
     "name": "stdout",
     "output_type": "stream",
     "text": [
      "              precision    recall  f1-score   support\n",
      "\n",
      "           0       0.39      0.41      0.40       536\n",
      "           1       0.36      0.17      0.23       240\n",
      "           2       0.33      0.33      0.33       423\n",
      "           3       0.42      0.39      0.41       416\n",
      "           4       0.64      0.17      0.27        81\n",
      "           5       0.38      0.17      0.23       227\n",
      "           6       0.96      0.90      0.93        29\n",
      "           7       1.00      0.95      0.97        19\n",
      "           8       0.67      0.92      0.78        90\n",
      "           9       0.37      0.51      0.43       865\n",
      "          10       0.37      0.11      0.16        66\n",
      "\n",
      "    accuracy                           0.40      2992\n",
      "   macro avg       0.54      0.46      0.47      2992\n",
      "weighted avg       0.40      0.40      0.39      2992\n",
      "\n"
     ]
    }
   ],
   "source": [
    "from sklearn.metrics import accuracy_score\n",
    "development_target_pred = clf.predict(X_development_bow)\n",
    "print(classification_report(development['cluster'], development_target_pred))\n"
   ]
  },
  {
   "cell_type": "code",
   "execution_count": 12,
   "id": "3f058052",
   "metadata": {},
   "outputs": [
    {
     "name": "stderr",
     "output_type": "stream",
     "text": [
      "/Users/angky/anaconda3/lib/python3.11/site-packages/sklearn/linear_model/_logistic.py:460: ConvergenceWarning: lbfgs failed to converge (status=1):\n",
      "STOP: TOTAL NO. of ITERATIONS REACHED LIMIT.\n",
      "\n",
      "Increase the number of iterations (max_iter) or scale the data as shown in:\n",
      "    https://scikit-learn.org/stable/modules/preprocessing.html\n",
      "Please also refer to the documentation for alternative solver options:\n",
      "    https://scikit-learn.org/stable/modules/linear_model.html#logistic-regression\n",
      "  n_iter_i = _check_optimize_result(\n",
      "/Users/angky/anaconda3/lib/python3.11/site-packages/sklearn/linear_model/_logistic.py:460: ConvergenceWarning: lbfgs failed to converge (status=1):\n",
      "STOP: TOTAL NO. of ITERATIONS REACHED LIMIT.\n",
      "\n",
      "Increase the number of iterations (max_iter) or scale the data as shown in:\n",
      "    https://scikit-learn.org/stable/modules/preprocessing.html\n",
      "Please also refer to the documentation for alternative solver options:\n",
      "    https://scikit-learn.org/stable/modules/linear_model.html#logistic-regression\n",
      "  n_iter_i = _check_optimize_result(\n",
      "/Users/angky/anaconda3/lib/python3.11/site-packages/sklearn/linear_model/_logistic.py:460: ConvergenceWarning: lbfgs failed to converge (status=1):\n",
      "STOP: TOTAL NO. of ITERATIONS REACHED LIMIT.\n",
      "\n",
      "Increase the number of iterations (max_iter) or scale the data as shown in:\n",
      "    https://scikit-learn.org/stable/modules/preprocessing.html\n",
      "Please also refer to the documentation for alternative solver options:\n",
      "    https://scikit-learn.org/stable/modules/linear_model.html#logistic-regression\n",
      "  n_iter_i = _check_optimize_result(\n",
      "/Users/angky/anaconda3/lib/python3.11/site-packages/sklearn/linear_model/_logistic.py:460: ConvergenceWarning: lbfgs failed to converge (status=1):\n",
      "STOP: TOTAL NO. of ITERATIONS REACHED LIMIT.\n",
      "\n",
      "Increase the number of iterations (max_iter) or scale the data as shown in:\n",
      "    https://scikit-learn.org/stable/modules/preprocessing.html\n",
      "Please also refer to the documentation for alternative solver options:\n",
      "    https://scikit-learn.org/stable/modules/linear_model.html#logistic-regression\n",
      "  n_iter_i = _check_optimize_result(\n",
      "/Users/angky/anaconda3/lib/python3.11/site-packages/sklearn/linear_model/_logistic.py:460: ConvergenceWarning: lbfgs failed to converge (status=1):\n",
      "STOP: TOTAL NO. of ITERATIONS REACHED LIMIT.\n",
      "\n",
      "Increase the number of iterations (max_iter) or scale the data as shown in:\n",
      "    https://scikit-learn.org/stable/modules/preprocessing.html\n",
      "Please also refer to the documentation for alternative solver options:\n",
      "    https://scikit-learn.org/stable/modules/linear_model.html#logistic-regression\n",
      "  n_iter_i = _check_optimize_result(\n",
      "/Users/angky/anaconda3/lib/python3.11/site-packages/sklearn/linear_model/_logistic.py:460: ConvergenceWarning: lbfgs failed to converge (status=1):\n",
      "STOP: TOTAL NO. of ITERATIONS REACHED LIMIT.\n",
      "\n",
      "Increase the number of iterations (max_iter) or scale the data as shown in:\n",
      "    https://scikit-learn.org/stable/modules/preprocessing.html\n",
      "Please also refer to the documentation for alternative solver options:\n",
      "    https://scikit-learn.org/stable/modules/linear_model.html#logistic-regression\n",
      "  n_iter_i = _check_optimize_result(\n",
      "/Users/angky/anaconda3/lib/python3.11/site-packages/sklearn/linear_model/_logistic.py:460: ConvergenceWarning: lbfgs failed to converge (status=1):\n",
      "STOP: TOTAL NO. of ITERATIONS REACHED LIMIT.\n",
      "\n",
      "Increase the number of iterations (max_iter) or scale the data as shown in:\n",
      "    https://scikit-learn.org/stable/modules/preprocessing.html\n",
      "Please also refer to the documentation for alternative solver options:\n",
      "    https://scikit-learn.org/stable/modules/linear_model.html#logistic-regression\n",
      "  n_iter_i = _check_optimize_result(\n",
      "/Users/angky/anaconda3/lib/python3.11/site-packages/sklearn/linear_model/_logistic.py:460: ConvergenceWarning: lbfgs failed to converge (status=1):\n",
      "STOP: TOTAL NO. of ITERATIONS REACHED LIMIT.\n",
      "\n",
      "Increase the number of iterations (max_iter) or scale the data as shown in:\n",
      "    https://scikit-learn.org/stable/modules/preprocessing.html\n",
      "Please also refer to the documentation for alternative solver options:\n",
      "    https://scikit-learn.org/stable/modules/linear_model.html#logistic-regression\n",
      "  n_iter_i = _check_optimize_result(\n",
      "/Users/angky/anaconda3/lib/python3.11/site-packages/sklearn/linear_model/_logistic.py:460: ConvergenceWarning: lbfgs failed to converge (status=1):\n",
      "STOP: TOTAL NO. of ITERATIONS REACHED LIMIT.\n",
      "\n",
      "Increase the number of iterations (max_iter) or scale the data as shown in:\n",
      "    https://scikit-learn.org/stable/modules/preprocessing.html\n",
      "Please also refer to the documentation for alternative solver options:\n",
      "    https://scikit-learn.org/stable/modules/linear_model.html#logistic-regression\n",
      "  n_iter_i = _check_optimize_result(\n"
     ]
    },
    {
     "data": {
      "image/png": "[encoded data removed]",
      "text/plain": [
       "<Figure size 1000x600 with 1 Axes>"
      ]
     },
     "metadata": {},
     "output_type": "display_data"
    }
   ],
   "source": [
    "import matplotlib.pyplot as plt\n",
    "from sklearn.metrics import accuracy_score\n",
    "\n",
    "# Function to train and evaluate the model\n",
    "def train_eval_logistic_regression(X_train, y_train, X_test, y_test, max_iter):\n",
    "    model = LogisticRegression(max_iter=max_iter, solver='lbfgs')\n",
    "    model.fit(X_train, y_train)\n",
    "    train_accuracy = accuracy_score(y_train, model.predict(X_train))\n",
    "    test_accuracy = accuracy_score(y_test, model.predict(X_test))\n",
    "    return train_accuracy, test_accuracy\n",
    "\n",
    "# Define the range of iterations (epochs)\n",
    "iterations = range(10, 500, 20)\n",
    "\n",
    "# Store the accuracies\n",
    "train_accuracies = []\n",
    "test_accuracies = []\n",
    "\n",
    "for i in iterations:\n",
    "    train_acc, test_acc = train_eval_logistic_regression(X_train_bow, training['cluster'], X_development_bow, development['cluster'], i)\n",
    "    train_accuracies.append(train_acc)\n",
    "    test_accuracies.append(test_acc)\n",
    "\n",
    "# Plotting\n",
    "plt.figure(figsize=(10, 6))\n",
    "plt.plot(iterations, train_accuracies, label='Training Accuracy')\n",
    "plt.plot(iterations, test_accuracies, label='Test Accuracy')\n",
    "plt.xlabel('Iterations')\n",
    "plt.ylabel('Accuracy')\n",
    "plt.title('Accuracy vs. Iterations for Logistic Regression')\n",
    "plt.legend()\n",
    "plt.show()"
   ]
  },
  {
   "cell_type": "markdown",
   "id": "13360ceb",
   "metadata": {},
   "source": [
    "Second Iteration (With less feature)"
   ]
  },
  {
   "cell_type": "code",
   "execution_count": 13,
   "id": "9bc3f39f",
   "metadata": {},
   "outputs": [],
   "source": [
    "from sklearn.model_selection import train_test_split\n",
    "training, development = train_test_split(df, test_size=0.3, random_state=42)"
   ]
  },
  {
   "cell_type": "code",
   "execution_count": 16,
   "id": "6a4f5ec5",
   "metadata": {},
   "outputs": [
    {
     "name": "stdout",
     "output_type": "stream",
     "text": [
      "Number of xgram 15958\n"
     ]
    }
   ],
   "source": [
    "from sklearn.feature_extraction.text import CountVectorizer\n",
    "vectorizer = CountVectorizer(binary=True, min_df=6, ngram_range=(1, 3))\n",
    "training_text = training['processed_description']\n",
    "development_text = development['processed_description']\n",
    "\n",
    "X_train_bow = vectorizer.fit_transform(training_text)\n",
    "X_development_bow = vectorizer.transform(development_text)\n",
    "\n",
    "print('Number of xgram', len(vectorizer.get_feature_names_out()))"
   ]
  },
  {
   "cell_type": "code",
   "execution_count": 24,
   "id": "0d9bdb08",
   "metadata": {},
   "outputs": [
    {
     "name": "stdout",
     "output_type": "stream",
     "text": [
      "              precision    recall  f1-score   support\n",
      "\n",
      "           0       0.97      0.94      0.95      1304\n",
      "           1       1.00      0.88      0.93       536\n",
      "           2       0.83      0.96      0.89      1016\n",
      "           3       0.93      0.93      0.93       963\n",
      "           4       1.00      0.63      0.78       167\n",
      "           5       1.00      0.88      0.93       489\n",
      "           6       1.00      0.96      0.98        69\n",
      "           7       1.00      0.77      0.87        52\n",
      "           8       0.90      0.94      0.92       196\n",
      "           9       0.92      0.97      0.94      2089\n",
      "          10       1.00      0.46      0.63        98\n",
      "\n",
      "    accuracy                           0.93      6979\n",
      "   macro avg       0.96      0.85      0.89      6979\n",
      "weighted avg       0.93      0.93      0.93      6979\n",
      "\n"
     ]
    }
   ],
   "source": [
    "from sklearn.linear_model import LogisticRegression\n",
    "from sklearn.metrics import classification_report\n",
    "\n",
    "clf = LogisticRegression(max_iter=1000, C=0.06)\n",
    "clf.fit(X_train_bow, training['cluster'])\n",
    "training_target_pred = clf.predict(X_train_bow)\n",
    "print(classification_report(training['cluster'], training_target_pred))"
   ]
  },
  {
   "cell_type": "code",
   "execution_count": 25,
   "id": "5b381fa4",
   "metadata": {},
   "outputs": [
    {
     "name": "stdout",
     "output_type": "stream",
     "text": [
      "              precision    recall  f1-score   support\n",
      "\n",
      "           0       0.38      0.36      0.37       536\n",
      "           1       0.33      0.06      0.11       240\n",
      "           2       0.34      0.41      0.37       423\n",
      "           3       0.42      0.39      0.40       416\n",
      "           4       0.33      0.02      0.05        81\n",
      "           5       0.36      0.07      0.12       227\n",
      "           6       1.00      0.83      0.91        29\n",
      "           7       1.00      0.89      0.94        19\n",
      "           8       0.80      0.87      0.83        90\n",
      "           9       0.38      0.60      0.46       865\n",
      "          10       1.00      0.02      0.03        66\n",
      "\n",
      "    accuracy                           0.40      2992\n",
      "   macro avg       0.58      0.41      0.42      2992\n",
      "weighted avg       0.41      0.40      0.37      2992\n",
      "\n",
      "0.39906417112299464\n"
     ]
    }
   ],
   "source": [
    "development_target_pred = clf.predict(X_development_bow)\n",
    "print(classification_report(development['cluster'], development_target_pred))\n",
    "print(accuracy_score(development['cluster'], development_target_pred))"
   ]
  },
  {
   "cell_type": "code",
   "execution_count": null,
   "id": "6b2cf352",
   "metadata": {},
   "outputs": [],
   "source": []
  }
 ],
 "metadata": {
  "kernelspec": {
   "display_name": "Python 3 (ipykernel)",
   "language": "python",
   "name": "python3"
  },
  "language_info": {
   "codemirror_mode": {
    "name": "ipython",
    "version": 3
   },
   "file_extension": ".py",
   "mimetype": "text/x-python",
   "name": "python",
   "nbconvert_exporter": "python",
   "pygments_lexer": "ipython3",
   "version": "3.11.5"
  }
 },
 "nbformat": 4,
 "nbformat_minor": 5
}
