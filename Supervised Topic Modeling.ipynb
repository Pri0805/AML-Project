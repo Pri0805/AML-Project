{
 "cells": [
  {
   "cell_type": "code",
   "execution_count": 1,
   "id": "3827d40e",
   "metadata": {},
   "outputs": [],
   "source": [
    "# importing libraries\n",
    "import pandas as pd\n",
    "import numpy as np\n",
    "import matplotlib.pyplot as plt\n",
    "import re\n",
    "# import umap\n",
    "import umap.umap_ as umap\n",
    "from collections import defaultdict\n",
    "\n",
    "from scipy import linalg, spatial\n",
    "from sklearn.cluster import KMeans\n",
    "from sklearn.decomposition import PCA, SparsePCA, TruncatedSVD\n",
    "from sklearn.feature_extraction.text import (CountVectorizer, TfidfTransformer, TfidfVectorizer)\n",
    "\n",
    "from sklearn.utils.extmath import randomized_svd\n",
    "\n",
    "from nltk.tokenize import word_tokenize\n",
    "from nltk.corpus import stopwords\n",
    "from nltk.stem import PorterStemmer"
   ]
  },
  {
   "cell_type": "code",
   "execution_count": 5,
   "id": "b0191fde",
   "metadata": {},
   "outputs": [
    {
     "name": "stdout",
     "output_type": "stream",
     "text": [
      "                     title                                        description  \\\n",
      "0  The Old Man and the Sea  Librarian's note: An alternate cover edition c...   \n",
      "1       The Vampire Lestat  Lestat. The vampire hero of Anne Rice's enthra...   \n",
      "2     The Poisonwood Bible  The Poisonwood Bible is a story told by the wi...   \n",
      "3        Different Seasons  Includes the stories “The Body” and “Rita Hayw...   \n",
      "4            Invisible Man  First published in 1952 and immediately hailed...   \n",
      "5            Battle Royale  Koushun Takami's notorious high-octane thrille...   \n",
      "6    I'll Give You the Sun  At first, Jude and her twin brother Noah, are ...   \n",
      "7    Because of Winn-Dixie  The summer Opal and her father, the preacher, ...   \n",
      "8            Lover Avenged  Rehvenge has always kept his distance from the...   \n",
      "9                Ficciones  The seventeen pieces in Ficciones demonstrate ...   \n",
      "\n",
      "                               processed_description  cluster  \n",
      "0  librarian note alternate cover edition found h...        3  \n",
      "1  lestat vampire hero anne rice enthralling new ...        1  \n",
      "2  poisonwood bible story told wife four daughter...        0  \n",
      "3  includes story body rita hayworth shawshank re...        0  \n",
      "4  first published immediately hailed masterpiece...        3  \n",
      "5  koushun takami notorious high octane thriller ...        0  \n",
      "6  first jude twin brother noah inseparable noah ...        5  \n",
      "7  summer opal father preacher move naomi florida...        9  \n",
      "8  rehvenge always kept distance brotherhood even...        9  \n",
      "9  seventeen piece ficciones demonstrate whirlwin...        3  \n"
     ]
    }
   ],
   "source": [
    "filename =  '/Users/angky/Cornell/AML/AML-Project/clustered_books.csv'\n",
    "df = pd.read_csv(filename)\n",
    "print(df.head(10))"
   ]
  },
  {
   "cell_type": "code",
   "execution_count": 11,
   "id": "db2a39f2",
   "metadata": {},
   "outputs": [],
   "source": [
    "df['processed_description'] = df['processed_description'].fillna('')"
   ]
  },
  {
   "cell_type": "markdown",
   "id": "f68960b3",
   "metadata": {},
   "source": [
    "Split Train and Validation Set"
   ]
  },
  {
   "cell_type": "code",
   "execution_count": 17,
   "id": "1df465dc",
   "metadata": {},
   "outputs": [],
   "source": [
    "from sklearn.model_selection import train_test_split\n",
    "training, development = train_test_split(df, test_size=0.3, random_state=42)"
   ]
  },
  {
   "cell_type": "code",
   "execution_count": 18,
   "id": "32fcdd55",
   "metadata": {},
   "outputs": [
    {
     "name": "stdout",
     "output_type": "stream",
     "text": [
      "Number of unigram 21605\n"
     ]
    }
   ],
   "source": [
    "from sklearn.feature_extraction.text import CountVectorizer\n",
    "vectorizer = CountVectorizer(binary=True, min_df=2)\n",
    "training_text = training['processed_description']\n",
    "development_text = development['processed_description']\n",
    "\n",
    "X_train_bow = vectorizer.fit_transform(training_text)\n",
    "X_development_bow = vectorizer.transform(development_text)\n",
    "\n",
    "print('Number of unigram', len(vectorizer.get_feature_names_out()))"
   ]
  },
  {
   "cell_type": "code",
   "execution_count": 19,
   "id": "cbf91b72",
   "metadata": {},
   "outputs": [
    {
     "name": "stdout",
     "output_type": "stream",
     "text": [
      "Top 10 unigram:\n",
      "'one': 3046\n",
      "'life': 3032\n",
      "'world': 2321\n",
      "'new': 2214\n",
      "'year': 1965\n",
      "'time': 1958\n",
      "'love': 1803\n",
      "'story': 1747\n",
      "'find': 1604\n",
      "'first': 1447\n"
     ]
    }
   ],
   "source": [
    "# Sum the counts of each bigram across all documents\n",
    "unigram_counts = X_train_bow.sum(axis=0)\n",
    "unigram_counts = np.array(unigram_counts).flatten()\n",
    "\n",
    "\n",
    "# Get sorted indices based on counts (in descending order)\n",
    "sorted_indices = unigram_counts.argsort()[::-1]\n",
    "\n",
    "# Retrieve the top 10 unigram and their counts using the indices\n",
    "top_10_unigram = [(vectorizer.get_feature_names_out()[i], unigram_counts[i]) for i in sorted_indices[:10]]\n",
    "\n",
    "print(\"Top 10 unigram:\")\n",
    "for unigram, count in top_10_unigram:\n",
    "    print(f\"'{unigram}': {count}\")"
   ]
  },
  {
   "cell_type": "code",
   "execution_count": 33,
   "id": "94e087be",
   "metadata": {},
   "outputs": [
    {
     "name": "stdout",
     "output_type": "stream",
     "text": [
      "              precision    recall  f1-score   support\n",
      "\n",
      "           0       1.00      1.00      1.00      1304\n",
      "           1       1.00      1.00      1.00       536\n",
      "           2       1.00      1.00      1.00      1016\n",
      "           3       1.00      1.00      1.00       963\n",
      "           4       1.00      1.00      1.00       167\n",
      "           5       1.00      1.00      1.00       489\n",
      "           6       1.00      1.00      1.00        69\n",
      "           7       1.00      0.98      0.99        52\n",
      "           8       0.97      1.00      0.98       196\n",
      "           9       1.00      1.00      1.00      2089\n",
      "          10       1.00      0.98      0.99        98\n",
      "\n",
      "    accuracy                           1.00      6979\n",
      "   macro avg       1.00      1.00      1.00      6979\n",
      "weighted avg       1.00      1.00      1.00      6979\n",
      "\n"
     ]
    }
   ],
   "source": [
    "from sklearn.linear_model import LogisticRegression\n",
    "from sklearn.metrics import classification_report\n",
    "\n",
    "clf = LogisticRegression(max_iter=1000)\n",
    "clf.fit(X_train_bow, training['cluster'])\n",
    "training_target_pred = clf.predict(X_train_bow)\n",
    "print(classification_report(training['cluster'], training_target_pred))\n",
    "\n",
    "\n"
   ]
  },
  {
   "cell_type": "code",
   "execution_count": 34,
   "id": "543ffaa0",
   "metadata": {},
   "outputs": [
    {
     "name": "stdout",
     "output_type": "stream",
     "text": [
      "              precision    recall  f1-score   support\n",
      "\n",
      "           0       0.39      0.41      0.40       536\n",
      "           1       0.36      0.17      0.23       240\n",
      "           2       0.33      0.33      0.33       423\n",
      "           3       0.42      0.39      0.41       416\n",
      "           4       0.64      0.17      0.27        81\n",
      "           5       0.38      0.17      0.23       227\n",
      "           6       0.96      0.90      0.93        29\n",
      "           7       1.00      0.95      0.97        19\n",
      "           8       0.67      0.92      0.78        90\n",
      "           9       0.37      0.51      0.43       865\n",
      "          10       0.37      0.11      0.16        66\n",
      "\n",
      "    accuracy                           0.40      2992\n",
      "   macro avg       0.54      0.46      0.47      2992\n",
      "weighted avg       0.40      0.40      0.39      2992\n",
      "\n",
      "0.39939839572192515\n"
     ]
    }
   ],
   "source": [
    "development_target_pred = clf.predict(X_development_bow)\n",
    "print(classification_report(development['cluster'], development_target_pred))\n",
    "print(accuracy_score(development['cluster'], development_target_pred))"
   ]
  },
  {
   "cell_type": "markdown",
   "id": "d5b4dc1d",
   "metadata": {},
   "source": [
    "Loss Curve"
   ]
  },
  {
   "cell_type": "code",
   "execution_count": 51,
   "id": "a7794984",
   "metadata": {},
   "outputs": [
    {
     "name": "stderr",
     "output_type": "stream",
     "text": [
      "/Users/angky/anaconda3/lib/python3.11/site-packages/sklearn/linear_model/_logistic.py:460: ConvergenceWarning: lbfgs failed to converge (status=1):\n",
      "STOP: TOTAL NO. of ITERATIONS REACHED LIMIT.\n",
      "\n",
      "Increase the number of iterations (max_iter) or scale the data as shown in:\n",
      "    https://scikit-learn.org/stable/modules/preprocessing.html\n",
      "Please also refer to the documentation for alternative solver options:\n",
      "    https://scikit-learn.org/stable/modules/linear_model.html#logistic-regression\n",
      "  n_iter_i = _check_optimize_result(\n",
      "/Users/angky/anaconda3/lib/python3.11/site-packages/sklearn/linear_model/_logistic.py:460: ConvergenceWarning: lbfgs failed to converge (status=1):\n",
      "STOP: TOTAL NO. of ITERATIONS REACHED LIMIT.\n",
      "\n",
      "Increase the number of iterations (max_iter) or scale the data as shown in:\n",
      "    https://scikit-learn.org/stable/modules/preprocessing.html\n",
      "Please also refer to the documentation for alternative solver options:\n",
      "    https://scikit-learn.org/stable/modules/linear_model.html#logistic-regression\n",
      "  n_iter_i = _check_optimize_result(\n",
      "/Users/angky/anaconda3/lib/python3.11/site-packages/sklearn/linear_model/_logistic.py:460: ConvergenceWarning: lbfgs failed to converge (status=1):\n",
      "STOP: TOTAL NO. of ITERATIONS REACHED LIMIT.\n",
      "\n",
      "Increase the number of iterations (max_iter) or scale the data as shown in:\n",
      "    https://scikit-learn.org/stable/modules/preprocessing.html\n",
      "Please also refer to the documentation for alternative solver options:\n",
      "    https://scikit-learn.org/stable/modules/linear_model.html#logistic-regression\n",
      "  n_iter_i = _check_optimize_result(\n",
      "/Users/angky/anaconda3/lib/python3.11/site-packages/sklearn/linear_model/_logistic.py:460: ConvergenceWarning: lbfgs failed to converge (status=1):\n",
      "STOP: TOTAL NO. of ITERATIONS REACHED LIMIT.\n",
      "\n",
      "Increase the number of iterations (max_iter) or scale the data as shown in:\n",
      "    https://scikit-learn.org/stable/modules/preprocessing.html\n",
      "Please also refer to the documentation for alternative solver options:\n",
      "    https://scikit-learn.org/stable/modules/linear_model.html#logistic-regression\n",
      "  n_iter_i = _check_optimize_result(\n",
      "/Users/angky/anaconda3/lib/python3.11/site-packages/sklearn/linear_model/_logistic.py:460: ConvergenceWarning: lbfgs failed to converge (status=1):\n",
      "STOP: TOTAL NO. of ITERATIONS REACHED LIMIT.\n",
      "\n",
      "Increase the number of iterations (max_iter) or scale the data as shown in:\n",
      "    https://scikit-learn.org/stable/modules/preprocessing.html\n",
      "Please also refer to the documentation for alternative solver options:\n",
      "    https://scikit-learn.org/stable/modules/linear_model.html#logistic-regression\n",
      "  n_iter_i = _check_optimize_result(\n",
      "/Users/angky/anaconda3/lib/python3.11/site-packages/sklearn/linear_model/_logistic.py:460: ConvergenceWarning: lbfgs failed to converge (status=1):\n",
      "STOP: TOTAL NO. of ITERATIONS REACHED LIMIT.\n",
      "\n",
      "Increase the number of iterations (max_iter) or scale the data as shown in:\n",
      "    https://scikit-learn.org/stable/modules/preprocessing.html\n",
      "Please also refer to the documentation for alternative solver options:\n",
      "    https://scikit-learn.org/stable/modules/linear_model.html#logistic-regression\n",
      "  n_iter_i = _check_optimize_result(\n",
      "/Users/angky/anaconda3/lib/python3.11/site-packages/sklearn/linear_model/_logistic.py:460: ConvergenceWarning: lbfgs failed to converge (status=1):\n",
      "STOP: TOTAL NO. of ITERATIONS REACHED LIMIT.\n",
      "\n",
      "Increase the number of iterations (max_iter) or scale the data as shown in:\n",
      "    https://scikit-learn.org/stable/modules/preprocessing.html\n",
      "Please also refer to the documentation for alternative solver options:\n",
      "    https://scikit-learn.org/stable/modules/linear_model.html#logistic-regression\n",
      "  n_iter_i = _check_optimize_result(\n",
      "/Users/angky/anaconda3/lib/python3.11/site-packages/sklearn/linear_model/_logistic.py:460: ConvergenceWarning: lbfgs failed to converge (status=1):\n",
      "STOP: TOTAL NO. of ITERATIONS REACHED LIMIT.\n",
      "\n",
      "Increase the number of iterations (max_iter) or scale the data as shown in:\n",
      "    https://scikit-learn.org/stable/modules/preprocessing.html\n",
      "Please also refer to the documentation for alternative solver options:\n",
      "    https://scikit-learn.org/stable/modules/linear_model.html#logistic-regression\n",
      "  n_iter_i = _check_optimize_result(\n",
      "/Users/angky/anaconda3/lib/python3.11/site-packages/sklearn/linear_model/_logistic.py:460: ConvergenceWarning: lbfgs failed to converge (status=1):\n",
      "STOP: TOTAL NO. of ITERATIONS REACHED LIMIT.\n",
      "\n",
      "Increase the number of iterations (max_iter) or scale the data as shown in:\n",
      "    https://scikit-learn.org/stable/modules/preprocessing.html\n",
      "Please also refer to the documentation for alternative solver options:\n",
      "    https://scikit-learn.org/stable/modules/linear_model.html#logistic-regression\n",
      "  n_iter_i = _check_optimize_result(\n"
     ]
    },
    {
     "data": {
      "image/png": "[encoded data removed]",
      "text/plain": [
       "<Figure size 1000x600 with 1 Axes>"
      ]
     },
     "metadata": {},
     "output_type": "display_data"
    }
   ],
   "source": [
    "import matplotlib.pyplot as plt\n",
    "from sklearn.metrics import accuracy_score\n",
    "\n",
    "# Function to train and evaluate the model\n",
    "def train_eval_logistic_regression(X_train, y_train, X_test, y_test, max_iter):\n",
    "    model = LogisticRegression(max_iter=max_iter, solver='lbfgs')\n",
    "    model.fit(X_train, y_train)\n",
    "    train_accuracy = accuracy_score(y_train, model.predict(X_train))\n",
    "    test_accuracy = accuracy_score(y_test, model.predict(X_test))\n",
    "    return train_accuracy, test_accuracy\n",
    "\n",
    "# Define the range of iterations (epochs)\n",
    "iterations = range(10, 500, 20)\n",
    "\n",
    "# Store the accuracies\n",
    "train_accuracies = []\n",
    "test_accuracies = []\n",
    "\n",
    "for i in iterations:\n",
    "    train_acc, test_acc = train_eval_logistic_regression(X_train_bow, training['cluster'], X_development_bow, development['cluster'], i)\n",
    "    train_accuracies.append(train_acc)\n",
    "    test_accuracies.append(test_acc)\n",
    "\n",
    "# Plotting\n",
    "plt.figure(figsize=(10, 6))\n",
    "plt.plot(iterations, train_accuracies, label='Training Accuracy')\n",
    "plt.plot(iterations, test_accuracies, label='Test Accuracy')\n",
    "plt.xlabel('Iterations')\n",
    "plt.ylabel('Accuracy')\n",
    "plt.title('Accuracy vs. Iterations for Logistic Regression')\n",
    "plt.legend()\n",
    "plt.show()\n"
   ]
  },
  {
   "cell_type": "markdown",
   "id": "6fea3ceb",
   "metadata": {},
   "source": [
    "Second Iteration (With less feature)"
   ]
  },
  {
   "cell_type": "code",
   "execution_count": 37,
   "id": "c3a09448",
   "metadata": {},
   "outputs": [],
   "source": [
    "from sklearn.model_selection import train_test_split\n",
    "training, development = train_test_split(df, test_size=0.3, random_state=42)"
   ]
  },
  {
   "cell_type": "code",
   "execution_count": 43,
   "id": "1a8b077c",
   "metadata": {},
   "outputs": [
    {
     "name": "stdout",
     "output_type": "stream",
     "text": [
      "Number of unigram 5821\n"
     ]
    }
   ],
   "source": [
    "from sklearn.feature_extraction.text import CountVectorizer\n",
    "vectorizer = CountVectorizer(binary=True, min_df=12)\n",
    "training_text = training['processed_description']\n",
    "development_text = development['processed_description']\n",
    "\n",
    "X_train_bow = vectorizer.fit_transform(training_text)\n",
    "X_development_bow = vectorizer.transform(development_text)\n",
    "\n",
    "print('Number of unigram', len(vectorizer.get_feature_names_out()))"
   ]
  },
  {
   "cell_type": "code",
   "execution_count": 44,
   "id": "f2243024",
   "metadata": {},
   "outputs": [
    {
     "name": "stdout",
     "output_type": "stream",
     "text": [
      "Top 10 unigram:\n",
      "'one': 3046\n",
      "'life': 3032\n",
      "'world': 2321\n",
      "'new': 2214\n",
      "'year': 1965\n",
      "'time': 1958\n",
      "'love': 1803\n",
      "'story': 1747\n",
      "'find': 1604\n",
      "'first': 1447\n"
     ]
    }
   ],
   "source": [
    "# Sum the counts of each bigram across all documents\n",
    "unigram_counts = X_train_bow.sum(axis=0)\n",
    "unigram_counts = np.array(unigram_counts).flatten()\n",
    "\n",
    "\n",
    "# Get sorted indices based on counts (in descending order)\n",
    "sorted_indices = unigram_counts.argsort()[::-1]\n",
    "\n",
    "# Retrieve the top 10 unigram and their counts using the indices\n",
    "top_10_unigram = [(vectorizer.get_feature_names_out()[i], unigram_counts[i]) for i in sorted_indices[:10]]\n",
    "\n",
    "print(\"Top 10 unigram:\")\n",
    "for unigram, count in top_10_unigram:\n",
    "    print(f\"'{unigram}': {count}\")"
   ]
  },
  {
   "cell_type": "code",
   "execution_count": 49,
   "id": "f2e99587",
   "metadata": {},
   "outputs": [
    {
     "name": "stdout",
     "output_type": "stream",
     "text": [
      "              precision    recall  f1-score   support\n",
      "\n",
      "           0       1.00      1.00      1.00      1304\n",
      "           1       1.00      1.00      1.00       536\n",
      "           2       0.99      1.00      0.99      1016\n",
      "           3       1.00      1.00      1.00       963\n",
      "           4       1.00      1.00      1.00       167\n",
      "           5       1.00      1.00      1.00       489\n",
      "           6       1.00      1.00      1.00        69\n",
      "           7       1.00      0.98      0.99        52\n",
      "           8       0.96      0.99      0.98       196\n",
      "           9       1.00      1.00      1.00      2089\n",
      "          10       1.00      0.97      0.98        98\n",
      "\n",
      "    accuracy                           1.00      6979\n",
      "   macro avg       1.00      0.99      0.99      6979\n",
      "weighted avg       1.00      1.00      1.00      6979\n",
      "\n"
     ]
    }
   ],
   "source": [
    "from sklearn.linear_model import LogisticRegression\n",
    "from sklearn.metrics import classification_report\n",
    "\n",
    "clf = LogisticRegression(max_iter=1000)\n",
    "clf.fit(X_train_bow, training['cluster'])\n",
    "training_target_pred = clf.predict(X_train_bow)\n",
    "print(classification_report(training['cluster'], training_target_pred))\n",
    "\n",
    "\n"
   ]
  },
  {
   "cell_type": "code",
   "execution_count": 48,
   "id": "d3e29c3c",
   "metadata": {},
   "outputs": [
    {
     "name": "stdout",
     "output_type": "stream",
     "text": [
      "              precision    recall  f1-score   support\n",
      "\n",
      "           0       0.38      0.42      0.40       536\n",
      "           1       0.31      0.18      0.23       240\n",
      "           2       0.32      0.32      0.32       423\n",
      "           3       0.39      0.37      0.38       416\n",
      "           4       0.44      0.15      0.22        81\n",
      "           5       0.34      0.18      0.24       227\n",
      "           6       0.87      0.90      0.88        29\n",
      "           7       1.00      0.95      0.97        19\n",
      "           8       0.70      0.87      0.77        90\n",
      "           9       0.36      0.47      0.40       865\n",
      "          10       0.33      0.11      0.16        66\n",
      "\n",
      "    accuracy                           0.38      2992\n",
      "   macro avg       0.50      0.45      0.45      2992\n",
      "weighted avg       0.38      0.38      0.37      2992\n",
      "\n",
      "0.38168449197860965\n"
     ]
    }
   ],
   "source": [
    "development_target_pred = clf.predict(X_development_bow)\n",
    "print(classification_report(development['cluster'], development_target_pred))\n",
    "print(accuracy_score(development['cluster'], development_target_pred))"
   ]
  },
  {
   "cell_type": "code",
   "execution_count": null,
   "id": "13d815ae",
   "metadata": {},
   "outputs": [],
   "source": []
  }
 ],
 "metadata": {
  "kernelspec": {
   "display_name": "Python 3 (ipykernel)",
   "language": "python",
   "name": "python3"
  },
  "language_info": {
   "codemirror_mode": {
    "name": "ipython",
    "version": 3
   },
   "file_extension": ".py",
   "mimetype": "text/x-python",
   "name": "python",
   "nbconvert_exporter": "python",
   "pygments_lexer": "ipython3",
   "version": "3.11.4"
  }
 },
 "nbformat": 4,
 "nbformat_minor": 5
}
