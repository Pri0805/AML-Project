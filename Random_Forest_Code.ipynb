{
 "cells": [
  {
   "cell_type": "code",
   "execution_count": 9,
   "id": "61c84a27",
   "metadata": {},
   "outputs": [],
   "source": [
    "import pandas as pd\n",
    "import numpy as np\n",
    "import matplotlib as plt\n",
    "import re\n",
    "import math\n",
    "from sklearn.ensemble import RandomForestClassifier\n",
    "from sklearn.model_selection import GridSearchCV\n",
    "from sklearn.model_selection import train_test_split, RandomizedSearchCV\n",
    "from sklearn.feature_extraction.text import CountVectorizer\n",
    "from sklearn.metrics import accuracy_score"
   ]
  },
  {
   "cell_type": "code",
   "execution_count": 2,
   "id": "0dff824f",
   "metadata": {},
   "outputs": [
    {
     "name": "stdout",
     "output_type": "stream",
     "text": [
      "                     title                                        description  \\\n",
      "0  The Old Man and the Sea  Librarian's note: An alternate cover edition c...   \n",
      "1       The Vampire Lestat  Lestat. The vampire hero of Anne Rice's enthra...   \n",
      "2     The Poisonwood Bible  The Poisonwood Bible is a story told by the wi...   \n",
      "3        Different Seasons  Includes the stories “The Body” and “Rita Hayw...   \n",
      "4            Invisible Man  First published in 1952 and immediately hailed...   \n",
      "5            Battle Royale  Koushun Takami's notorious high-octane thrille...   \n",
      "6    I'll Give You the Sun  At first, Jude and her twin brother Noah, are ...   \n",
      "7    Because of Winn-Dixie  The summer Opal and her father, the preacher, ...   \n",
      "8            Lover Avenged  Rehvenge has always kept his distance from the...   \n",
      "9                Ficciones  The seventeen pieces in Ficciones demonstrate ...   \n",
      "\n",
      "                               processed_description  cluster  \n",
      "0  librarian note alternate cover edition found h...        3  \n",
      "1  lestat vampire hero anne rice enthralling new ...        1  \n",
      "2  poisonwood bible story told wife four daughter...        0  \n",
      "3  includes story body rita hayworth shawshank re...        0  \n",
      "4  first published immediately hailed masterpiece...        3  \n",
      "5  koushun takami notorious high octane thriller ...        0  \n",
      "6  first jude twin brother noah inseparable noah ...        5  \n",
      "7  summer opal father preacher move naomi florida...        9  \n",
      "8  rehvenge always kept distance brotherhood even...        9  \n",
      "9  seventeen piece ficciones demonstrate whirlwin...        3  \n"
     ]
    }
   ],
   "source": [
    "filename = 'clustered_books.csv'\n",
    "df = pd.read_csv(filename)\n",
    "df['processed_description'] = df['processed_description'].fillna('')\n",
    "print(df.head(10))"
   ]
  },
  {
   "cell_type": "code",
   "execution_count": 3,
   "id": "34b49056",
   "metadata": {},
   "outputs": [],
   "source": [
    "# Separate processed description and cluster columns into separate dataframes to be used for data split later\n",
    "description = pd.DataFrame()\n",
    "description = df['processed_description']\n",
    "cluster = pd.DataFrame()\n",
    "cluster = df['cluster']"
   ]
  },
  {
   "cell_type": "code",
   "execution_count": 4,
   "id": "f17c6c33",
   "metadata": {},
   "outputs": [],
   "source": [
    "# Split into train, validation, test sets\n",
    "X_train, X_temp, y_train, y_temp = train_test_split(description, cluster, test_size=0.3, random_state=42)\n",
    "X_val, X_test, y_val, y_test = train_test_split(X_temp, y_temp, test_size=0.5, random_state=42)"
   ]
  },
  {
   "cell_type": "code",
   "execution_count": 5,
   "id": "6d030982",
   "metadata": {},
   "outputs": [
    {
     "name": "stdout",
     "output_type": "stream",
     "text": [
      "6979\n",
      "1496\n",
      "1496\n"
     ]
    }
   ],
   "source": [
    "# Check shapes of the train, validation, test sets\n",
    "print(X_train.shape[0])\n",
    "print(X_val.shape[0])\n",
    "print(X_test.shape[0])"
   ]
  },
  {
   "cell_type": "code",
   "execution_count": 6,
   "id": "4055fada",
   "metadata": {},
   "outputs": [
    {
     "name": "stdout",
     "output_type": "stream",
     "text": [
      "Number of unigram 21605\n"
     ]
    }
   ],
   "source": [
    "# Calculate BoW for train, val, test sets to be used as input for Random Forest Classifier\n",
    "vectorizer = CountVectorizer(binary=False, min_df=2)\n",
    "\n",
    "X_train_bow = vectorizer.fit_transform(X_train)\n",
    "X_val_bow = vectorizer.transform(X_val)\n",
    "X_test_bow = vectorizer.transform(X_test)\n",
    "\n",
    "print('Number of unigram', len(vectorizer.get_feature_names_out()))"
   ]
  },
  {
   "cell_type": "code",
   "execution_count": 7,
   "id": "cf110f19",
   "metadata": {},
   "outputs": [
    {
     "data": {
      "text/plain": [
       "RandomForestClassifier(random_state=42)"
      ]
     },
     "execution_count": 7,
     "metadata": {},
     "output_type": "execute_result"
    }
   ],
   "source": [
    "# Fit Random Forest Regressor on train data\n",
    "\n",
    "rf_model = RandomForestClassifier(n_estimators=100, random_state=42)\n",
    "\n",
    "rf_model.fit(X_train_bow, y_train)"
   ]
  },
  {
   "cell_type": "code",
   "execution_count": 17,
   "id": "3da429d5",
   "metadata": {},
   "outputs": [
    {
     "name": "stdout",
     "output_type": "stream",
     "text": [
      "Accuracy of the Random Forest Classifier for Train: 1.00\n",
      "\n",
      "\n",
      "Accuracy of the Random Forest Classifier for Validation: 0.37\n",
      "\n",
      "\n",
      "Accuracy of the Random Forest Classifier for Test: 0.37\n"
     ]
    }
   ],
   "source": [
    "# Predict on the train set\n",
    "y_train_pred = rf_model.predict(X_train_bow)\n",
    "\n",
    "\n",
    "# Evaluate the model\n",
    "accuracy_train = accuracy_score(y_train, y_train_pred)\n",
    "print(f\"Accuracy of the Random Forest Classifier for Train: {accuracy_train:.2f}\")\n",
    "\n",
    "print(\"\\n\")\n",
    "\n",
    "# Predict on the test set\n",
    "y_val_pred = rf_model.predict(X_val_bow)\n",
    "\n",
    "\n",
    "# Evaluate the model\n",
    "accuracy_val = accuracy_score(y_val, y_val_pred)\n",
    "print(f\"Accuracy of the Random Forest Classifier for Validation: {accuracy_val:.2f}\")\n",
    "\n",
    "print(\"\\n\")\n",
    "\n",
    "# Predict on the test set\n",
    "y_test_pred = rf_model.predict(X_test_bow)\n",
    "\n",
    "# Evaluate the model\n",
    "accuracy_test = accuracy_score(y_test, y_test_pred)\n",
    "print(f\"Accuracy of the Random Forest Classifier for Test: {accuracy_test:.2f}\")"
   ]
  },
  {
   "cell_type": "markdown",
   "id": "f53ca661",
   "metadata": {},
   "source": [
    "### Tuning Hyperparameters for a better accuracy\n",
    "#### 1) Randomized Search CV"
   ]
  },
  {
   "cell_type": "code",
   "execution_count": 16,
   "id": "b6c9df37",
   "metadata": {},
   "outputs": [
    {
     "name": "stdout",
     "output_type": "stream",
     "text": [
      "Best Hyperparameters: {'n_estimators': 200, 'min_samples_split': 2, 'min_samples_leaf': 1, 'max_features': 'auto', 'max_depth': 12}\n",
      "Best Score (accuracy): 0.3225390516683612\n",
      "Test Set Accuracy: 0.3074866310160428\n"
     ]
    }
   ],
   "source": [
    "# We use Randomized Search with cross-validation\n",
    "\n",
    "from sklearn.model_selection import RandomizedSearchCV\n",
    "\n",
    "# Define the parameter grid or distributions for random search\n",
    "param_dist = {\n",
    "    'n_estimators': [100, 200, 300, 400, 500],\n",
    "    'max_features': ['auto', 'sqrt', 'log2'],\n",
    "    'max_depth': [4, 6, 8, 10, 12],\n",
    "    'min_samples_split': [2, 5, 10],\n",
    "    'min_samples_leaf': [1, 2, 4]}\n",
    "\n",
    "# Perform Randomized Search with cross-validation\n",
    "random_search = RandomizedSearchCV(estimator=rf_model, param_distributions=param_dist, n_iter=10, \n",
    "                                   cv=5, scoring = 'accuracy', random_state=42)\n",
    "\n",
    "random_search.fit(X_train_bow, y_train)\n",
    "\n",
    "# Get the best hyperparameters and best score\n",
    "best_params = random_search.best_params_\n",
    "best_score = random_search.best_score_\n",
    "\n",
    "print(\"Best Hyperparameters:\", best_params)\n",
    "print(\"Best Score (accuracy):\", best_score)\n",
    "\n",
    "# Evaluate the best model on the test set\n",
    "best_model = random_search.best_estimator_\n",
    "test_accuracy = best_model.score(X_test_bow, y_test)\n",
    "print(\"Test Set Accuracy:\", test_accuracy)"
   ]
  },
  {
   "cell_type": "code",
   "execution_count": null,
   "id": "3af8ae89",
   "metadata": {},
   "outputs": [],
   "source": []
  }
 ],
 "metadata": {
  "kernelspec": {
   "display_name": "Python 3 (ipykernel)",
   "language": "python",
   "name": "python3"
  },
  "language_info": {
   "codemirror_mode": {
    "name": "ipython",
    "version": 3
   },
   "file_extension": ".py",
   "mimetype": "text/x-python",
   "name": "python",
   "nbconvert_exporter": "python",
   "pygments_lexer": "ipython3",
   "version": "3.9.13"
  }
 },
 "nbformat": 4,
 "nbformat_minor": 5
}
