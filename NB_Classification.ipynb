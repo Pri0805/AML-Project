{
 "cells": [
  {
   "cell_type": "code",
   "execution_count": 20,
   "id": "3827d40e",
   "metadata": {},
   "outputs": [],
   "source": [
    "# importing libraries\n",
    "import pandas as pd\n",
    "import numpy as np\n",
    "import matplotlib.pyplot as plt\n",
    "import re\n",
    "# import umap\n",
    "import umap.umap_ as umap\n",
    "from collections import defaultdict\n",
    "\n",
    "from scipy import linalg, spatial\n",
    "from sklearn.cluster import KMeans\n",
    "from sklearn.decomposition import PCA, SparsePCA, TruncatedSVD\n",
    "from sklearn.feature_extraction.text import (CountVectorizer, TfidfTransformer, TfidfVectorizer)\n",
    "\n",
    "from sklearn.utils.extmath import randomized_svd\n",
    "\n",
    "from nltk.tokenize import word_tokenize\n",
    "from nltk.corpus import stopwords\n",
    "from nltk.stem import PorterStemmer"
   ]
  },
  {
   "cell_type": "code",
   "execution_count": 21,
   "id": "b0191fde",
   "metadata": {},
   "outputs": [
    {
     "data": {
      "text/html": [
       "<div>\n",
       "<style scoped>\n",
       "    .dataframe tbody tr th:only-of-type {\n",
       "        vertical-align: middle;\n",
       "    }\n",
       "\n",
       "    .dataframe tbody tr th {\n",
       "        vertical-align: top;\n",
       "    }\n",
       "\n",
       "    .dataframe thead th {\n",
       "        text-align: right;\n",
       "    }\n",
       "</style>\n",
       "<table border=\"1\" class=\"dataframe\">\n",
       "  <thead>\n",
       "    <tr style=\"text-align: right;\">\n",
       "      <th></th>\n",
       "      <th>title</th>\n",
       "      <th>description</th>\n",
       "      <th>processed_description</th>\n",
       "      <th>cluster</th>\n",
       "    </tr>\n",
       "  </thead>\n",
       "  <tbody>\n",
       "    <tr>\n",
       "      <th>0</th>\n",
       "      <td>The Old Man and the Sea</td>\n",
       "      <td>Librarian's note: An alternate cover edition c...</td>\n",
       "      <td>librarian note alternate cover edition found h...</td>\n",
       "      <td>3</td>\n",
       "    </tr>\n",
       "    <tr>\n",
       "      <th>1</th>\n",
       "      <td>The Vampire Lestat</td>\n",
       "      <td>Lestat. The vampire hero of Anne Rice's enthra...</td>\n",
       "      <td>lestat vampire hero anne rice enthralling new ...</td>\n",
       "      <td>1</td>\n",
       "    </tr>\n",
       "    <tr>\n",
       "      <th>2</th>\n",
       "      <td>The Poisonwood Bible</td>\n",
       "      <td>The Poisonwood Bible is a story told by the wi...</td>\n",
       "      <td>poisonwood bible story told wife four daughter...</td>\n",
       "      <td>0</td>\n",
       "    </tr>\n",
       "    <tr>\n",
       "      <th>3</th>\n",
       "      <td>Different Seasons</td>\n",
       "      <td>Includes the stories “The Body” and “Rita Hayw...</td>\n",
       "      <td>includes story body rita hayworth shawshank re...</td>\n",
       "      <td>0</td>\n",
       "    </tr>\n",
       "    <tr>\n",
       "      <th>4</th>\n",
       "      <td>Invisible Man</td>\n",
       "      <td>First published in 1952 and immediately hailed...</td>\n",
       "      <td>first published immediately hailed masterpiece...</td>\n",
       "      <td>3</td>\n",
       "    </tr>\n",
       "    <tr>\n",
       "      <th>5</th>\n",
       "      <td>Battle Royale</td>\n",
       "      <td>Koushun Takami's notorious high-octane thrille...</td>\n",
       "      <td>koushun takami notorious high octane thriller ...</td>\n",
       "      <td>0</td>\n",
       "    </tr>\n",
       "    <tr>\n",
       "      <th>6</th>\n",
       "      <td>I'll Give You the Sun</td>\n",
       "      <td>At first, Jude and her twin brother Noah, are ...</td>\n",
       "      <td>first jude twin brother noah inseparable noah ...</td>\n",
       "      <td>5</td>\n",
       "    </tr>\n",
       "    <tr>\n",
       "      <th>7</th>\n",
       "      <td>Because of Winn-Dixie</td>\n",
       "      <td>The summer Opal and her father, the preacher, ...</td>\n",
       "      <td>summer opal father preacher move naomi florida...</td>\n",
       "      <td>9</td>\n",
       "    </tr>\n",
       "    <tr>\n",
       "      <th>8</th>\n",
       "      <td>Lover Avenged</td>\n",
       "      <td>Rehvenge has always kept his distance from the...</td>\n",
       "      <td>rehvenge always kept distance brotherhood even...</td>\n",
       "      <td>9</td>\n",
       "    </tr>\n",
       "    <tr>\n",
       "      <th>9</th>\n",
       "      <td>Ficciones</td>\n",
       "      <td>The seventeen pieces in Ficciones demonstrate ...</td>\n",
       "      <td>seventeen piece ficciones demonstrate whirlwin...</td>\n",
       "      <td>3</td>\n",
       "    </tr>\n",
       "  </tbody>\n",
       "</table>\n",
       "</div>"
      ],
      "text/plain": [
       "                     title                                        description  \\\n",
       "0  The Old Man and the Sea  Librarian's note: An alternate cover edition c...   \n",
       "1       The Vampire Lestat  Lestat. The vampire hero of Anne Rice's enthra...   \n",
       "2     The Poisonwood Bible  The Poisonwood Bible is a story told by the wi...   \n",
       "3        Different Seasons  Includes the stories “The Body” and “Rita Hayw...   \n",
       "4            Invisible Man  First published in 1952 and immediately hailed...   \n",
       "5            Battle Royale  Koushun Takami's notorious high-octane thrille...   \n",
       "6    I'll Give You the Sun  At first, Jude and her twin brother Noah, are ...   \n",
       "7    Because of Winn-Dixie  The summer Opal and her father, the preacher, ...   \n",
       "8            Lover Avenged  Rehvenge has always kept his distance from the...   \n",
       "9                Ficciones  The seventeen pieces in Ficciones demonstrate ...   \n",
       "\n",
       "                               processed_description  cluster  \n",
       "0  librarian note alternate cover edition found h...        3  \n",
       "1  lestat vampire hero anne rice enthralling new ...        1  \n",
       "2  poisonwood bible story told wife four daughter...        0  \n",
       "3  includes story body rita hayworth shawshank re...        0  \n",
       "4  first published immediately hailed masterpiece...        3  \n",
       "5  koushun takami notorious high octane thriller ...        0  \n",
       "6  first jude twin brother noah inseparable noah ...        5  \n",
       "7  summer opal father preacher move naomi florida...        9  \n",
       "8  rehvenge always kept distance brotherhood even...        9  \n",
       "9  seventeen piece ficciones demonstrate whirlwin...        3  "
      ]
     },
     "execution_count": 21,
     "metadata": {},
     "output_type": "execute_result"
    }
   ],
   "source": [
    "filename =  '/Users/srijeetabiswas/Desktop/Desktop/transfer to mac/torsha/grad school/Fall Semester/courses/AML/Project/clustered_books.csv'\n",
    "df = pd.read_csv(filename)\n",
    "(df.head(10))"
   ]
  },
  {
   "cell_type": "code",
   "execution_count": 22,
   "id": "db2a39f2",
   "metadata": {},
   "outputs": [],
   "source": [
    "df['processed_description'] = df['processed_description'].fillna('')"
   ]
  },
  {
   "cell_type": "markdown",
   "id": "f68960b3",
   "metadata": {},
   "source": [
    "Split Train and Validation Set"
   ]
  },
  {
   "cell_type": "code",
   "execution_count": 59,
   "id": "1df465dc",
   "metadata": {},
   "outputs": [],
   "source": [
    "from sklearn.model_selection import train_test_split\n",
    "training, development = train_test_split(df, test_size=0.3, random_state=42)"
   ]
  },
  {
   "cell_type": "code",
   "execution_count": 60,
   "id": "0db1f77f-8d3e-44a0-8819-b200c67a4b51",
   "metadata": {},
   "outputs": [],
   "source": [
    "y_train, y_dev = training['cluster'], development['cluster']"
   ]
  },
  {
   "cell_type": "code",
   "execution_count": 61,
   "id": "32fcdd55",
   "metadata": {},
   "outputs": [
    {
     "name": "stdout",
     "output_type": "stream",
     "text": [
      "Number of unigram 21605\n"
     ]
    }
   ],
   "source": [
    "from sklearn.feature_extraction.text import CountVectorizer\n",
    "vectorizer = CountVectorizer(binary=True, min_df=2)\n",
    "training_text = training['processed_description']\n",
    "development_text = development['processed_description']\n",
    "\n",
    "X_train_bow = vectorizer.fit_transform(training_text)\n",
    "X_development_bow = vectorizer.transform(development_text)\n",
    "\n",
    "print('Number of unigram', len(vectorizer.get_feature_names_out()))"
   ]
  },
  {
   "cell_type": "code",
   "execution_count": 62,
   "id": "cbf91b72",
   "metadata": {},
   "outputs": [
    {
     "name": "stdout",
     "output_type": "stream",
     "text": [
      "Top 10 unigram:\n",
      "'one': 3046\n",
      "'life': 3032\n",
      "'world': 2321\n",
      "'new': 2214\n",
      "'year': 1965\n",
      "'time': 1958\n",
      "'love': 1803\n",
      "'story': 1747\n",
      "'find': 1604\n",
      "'first': 1447\n"
     ]
    }
   ],
   "source": [
    "# Sum the counts of each bigram across all documents\n",
    "unigram_counts = X_train_bow.sum(axis=0)\n",
    "unigram_counts = np.array(unigram_counts).flatten()\n",
    "\n",
    "\n",
    "# Get sorted indices based on counts (in descending order)\n",
    "sorted_indices = unigram_counts.argsort()[::-1]\n",
    "\n",
    "# Retrieve the top 10 unigram and their counts using the indices\n",
    "top_10_unigram = [(vectorizer.get_feature_names_out()[i], unigram_counts[i]) for i in sorted_indices[:10]]\n",
    "\n",
    "print(\"Top 10 unigram:\")\n",
    "for unigram, count in top_10_unigram:\n",
    "    print(f\"'{unigram}': {count}\")"
   ]
  },
  {
   "cell_type": "code",
   "execution_count": 63,
   "id": "94e087be",
   "metadata": {},
   "outputs": [],
   "source": [
    "import pandas as pd\n",
    "from sklearn.model_selection import train_test_split\n",
    "from sklearn.feature_extraction.text import CountVectorizer\n",
    "from sklearn.naive_bayes import MultinomialNB\n",
    "from sklearn.metrics import accuracy_score, classification_report"
   ]
  },
  {
   "cell_type": "code",
   "execution_count": 64,
   "id": "543ffaa0",
   "metadata": {},
   "outputs": [
    {
     "data": {
      "text/html": [
       "<style>#sk-container-id-8 {color: black;}#sk-container-id-8 pre{padding: 0;}#sk-container-id-8 div.sk-toggleable {background-color: white;}#sk-container-id-8 label.sk-toggleable__label {cursor: pointer;display: block;width: 100%;margin-bottom: 0;padding: 0.3em;box-sizing: border-box;text-align: center;}#sk-container-id-8 label.sk-toggleable__label-arrow:before {content: \"▸\";float: left;margin-right: 0.25em;color: #696969;}#sk-container-id-8 label.sk-toggleable__label-arrow:hover:before {color: black;}#sk-container-id-8 div.sk-estimator:hover label.sk-toggleable__label-arrow:before {color: black;}#sk-container-id-8 div.sk-toggleable__content {max-height: 0;max-width: 0;overflow: hidden;text-align: left;background-color: #f0f8ff;}#sk-container-id-8 div.sk-toggleable__content pre {margin: 0.2em;color: black;border-radius: 0.25em;background-color: #f0f8ff;}#sk-container-id-8 input.sk-toggleable__control:checked~div.sk-toggleable__content {max-height: 200px;max-width: 100%;overflow: auto;}#sk-container-id-8 input.sk-toggleable__control:checked~label.sk-toggleable__label-arrow:before {content: \"▾\";}#sk-container-id-8 div.sk-estimator input.sk-toggleable__control:checked~label.sk-toggleable__label {background-color: #d4ebff;}#sk-container-id-8 div.sk-label input.sk-toggleable__control:checked~label.sk-toggleable__label {background-color: #d4ebff;}#sk-container-id-8 input.sk-hidden--visually {border: 0;clip: rect(1px 1px 1px 1px);clip: rect(1px, 1px, 1px, 1px);height: 1px;margin: -1px;overflow: hidden;padding: 0;position: absolute;width: 1px;}#sk-container-id-8 div.sk-estimator {font-family: monospace;background-color: #f0f8ff;border: 1px dotted black;border-radius: 0.25em;box-sizing: border-box;margin-bottom: 0.5em;}#sk-container-id-8 div.sk-estimator:hover {background-color: #d4ebff;}#sk-container-id-8 div.sk-parallel-item::after {content: \"\";width: 100%;border-bottom: 1px solid gray;flex-grow: 1;}#sk-container-id-8 div.sk-label:hover label.sk-toggleable__label {background-color: #d4ebff;}#sk-container-id-8 div.sk-serial::before {content: \"\";position: absolute;border-left: 1px solid gray;box-sizing: border-box;top: 0;bottom: 0;left: 50%;z-index: 0;}#sk-container-id-8 div.sk-serial {display: flex;flex-direction: column;align-items: center;background-color: white;padding-right: 0.2em;padding-left: 0.2em;position: relative;}#sk-container-id-8 div.sk-item {position: relative;z-index: 1;}#sk-container-id-8 div.sk-parallel {display: flex;align-items: stretch;justify-content: center;background-color: white;position: relative;}#sk-container-id-8 div.sk-item::before, #sk-container-id-8 div.sk-parallel-item::before {content: \"\";position: absolute;border-left: 1px solid gray;box-sizing: border-box;top: 0;bottom: 0;left: 50%;z-index: -1;}#sk-container-id-8 div.sk-parallel-item {display: flex;flex-direction: column;z-index: 1;position: relative;background-color: white;}#sk-container-id-8 div.sk-parallel-item:first-child::after {align-self: flex-end;width: 50%;}#sk-container-id-8 div.sk-parallel-item:last-child::after {align-self: flex-start;width: 50%;}#sk-container-id-8 div.sk-parallel-item:only-child::after {width: 0;}#sk-container-id-8 div.sk-dashed-wrapped {border: 1px dashed gray;margin: 0 0.4em 0.5em 0.4em;box-sizing: border-box;padding-bottom: 0.4em;background-color: white;}#sk-container-id-8 div.sk-label label {font-family: monospace;font-weight: bold;display: inline-block;line-height: 1.2em;}#sk-container-id-8 div.sk-label-container {text-align: center;}#sk-container-id-8 div.sk-container {/* jupyter's `normalize.less` sets `[hidden] { display: none; }` but bootstrap.min.css set `[hidden] { display: none !important; }` so we also need the `!important` here to be able to override the default hidden behavior on the sphinx rendered scikit-learn.org. See: https://github.com/scikit-learn/scikit-learn/issues/21755 */display: inline-block !important;position: relative;}#sk-container-id-8 div.sk-text-repr-fallback {display: none;}</style><div id=\"sk-container-id-8\" class=\"sk-top-container\"><div class=\"sk-text-repr-fallback\"><pre>MultinomialNB()</pre><b>In a Jupyter environment, please rerun this cell to show the HTML representation or trust the notebook. <br />On GitHub, the HTML representation is unable to render, please try loading this page with nbviewer.org.</b></div><div class=\"sk-container\" hidden><div class=\"sk-item\"><div class=\"sk-estimator sk-toggleable\"><input class=\"sk-toggleable__control sk-hidden--visually\" id=\"sk-estimator-id-8\" type=\"checkbox\" checked><label for=\"sk-estimator-id-8\" class=\"sk-toggleable__label sk-toggleable__label-arrow\">MultinomialNB</label><div class=\"sk-toggleable__content\"><pre>MultinomialNB()</pre></div></div></div></div></div>"
      ],
      "text/plain": [
       "MultinomialNB()"
      ]
     },
     "execution_count": 64,
     "metadata": {},
     "output_type": "execute_result"
    }
   ],
   "source": [
    "# Initialize and train the Naive Bayes model\n",
    "nb_model = MultinomialNB()\n",
    "nb_model.fit(X_train_bow, y_train)"
   ]
  },
  {
   "cell_type": "code",
   "execution_count": 65,
   "id": "01783c57-03d0-4e99-9b9a-834301971ce9",
   "metadata": {},
   "outputs": [],
   "source": [
    "# Make predictions on the test set\n",
    "y_pred = nb_model.predict(X_development_bow)\n"
   ]
  },
  {
   "cell_type": "code",
   "execution_count": 66,
   "id": "8d6d9282-08d9-40fd-aba2-dfc671f94d73",
   "metadata": {},
   "outputs": [],
   "source": [
    "y_pred_train = nb_model.predict(X_train_bow)"
   ]
  },
  {
   "cell_type": "code",
   "execution_count": 67,
   "id": "2cae3367-bcc6-4c21-bde0-05badbe5bf3a",
   "metadata": {},
   "outputs": [
    {
     "name": "stdout",
     "output_type": "stream",
     "text": [
      "Accuracy: 0.40274064171123\n",
      "Classification Report:\n",
      "               precision    recall  f1-score   support\n",
      "\n",
      "           0       0.38      0.46      0.42       536\n",
      "           1       0.62      0.03      0.06       240\n",
      "           2       0.57      0.10      0.17       423\n",
      "           3       0.42      0.50      0.46       416\n",
      "           4       1.00      0.01      0.02        81\n",
      "           5       0.67      0.06      0.11       227\n",
      "           6       0.80      0.97      0.88        29\n",
      "           7       0.94      0.89      0.92        19\n",
      "           8       0.90      0.40      0.55        90\n",
      "           9       0.36      0.69      0.48       865\n",
      "          10       1.00      0.03      0.06        66\n",
      "\n",
      "    accuracy                           0.40      2992\n",
      "   macro avg       0.70      0.38      0.38      2992\n",
      "weighted avg       0.50      0.40      0.35      2992\n",
      "\n"
     ]
    }
   ],
   "source": [
    "# Evaluate accuracy and other metrics\n",
    "accuracy = accuracy_score(y_dev, y_pred)\n",
    "report = classification_report(y_dev, y_pred)\n",
    "\n",
    "print(f'Accuracy: {accuracy}')\n",
    "print('Classification Report:\\n', report)\n"
   ]
  },
  {
   "cell_type": "code",
   "execution_count": 68,
   "id": "b6bc8d0b-d117-414e-9a0c-f4965cdf90ff",
   "metadata": {},
   "outputs": [
    {
     "name": "stdout",
     "output_type": "stream",
     "text": [
      "Accuracy: 0.7671586187132827\n",
      "Classification Report:\n",
      "               precision    recall  f1-score   support\n",
      "\n",
      "           0       0.92      0.74      0.82      1630\n",
      "           1       0.58      1.00      0.73       312\n",
      "           2       0.64      0.97      0.77       671\n",
      "           3       0.77      0.68      0.72      1091\n",
      "           4       0.27      1.00      0.42        45\n",
      "           5       0.58      0.98      0.73       288\n",
      "           6       1.00      0.93      0.97        74\n",
      "           7       0.92      0.98      0.95        49\n",
      "           8       0.45      0.86      0.60       103\n",
      "           9       0.91      0.70      0.79      2700\n",
      "          10       0.16      1.00      0.28        16\n",
      "\n",
      "    accuracy                           0.77      6979\n",
      "   macro avg       0.66      0.89      0.71      6979\n",
      "weighted avg       0.82      0.77      0.78      6979\n",
      "\n"
     ]
    }
   ],
   "source": [
    "# Evaluate accuracy and other metrics\n",
    "accuracy = accuracy_score(y_pred_train, y_train)\n",
    "report = classification_report(y_pred_train, y_train)\n",
    "\n",
    "print(f'Accuracy: {accuracy}')\n",
    "print('Classification Report:\\n', report)"
   ]
  },
  {
   "cell_type": "markdown",
   "id": "f540affa-1335-4e9d-bb88-757fbeef29d6",
   "metadata": {},
   "source": [
    "Now trying GridSearch with smoothing hyperparameter to account for over and under-fitting."
   ]
  },
  {
   "cell_type": "code",
   "execution_count": 69,
   "id": "6420ac83-a9a0-4e4e-b5a6-6507c28e3cb1",
   "metadata": {},
   "outputs": [
    {
     "data": {
      "text/html": [
       "<style>#sk-container-id-9 {color: black;}#sk-container-id-9 pre{padding: 0;}#sk-container-id-9 div.sk-toggleable {background-color: white;}#sk-container-id-9 label.sk-toggleable__label {cursor: pointer;display: block;width: 100%;margin-bottom: 0;padding: 0.3em;box-sizing: border-box;text-align: center;}#sk-container-id-9 label.sk-toggleable__label-arrow:before {content: \"▸\";float: left;margin-right: 0.25em;color: #696969;}#sk-container-id-9 label.sk-toggleable__label-arrow:hover:before {color: black;}#sk-container-id-9 div.sk-estimator:hover label.sk-toggleable__label-arrow:before {color: black;}#sk-container-id-9 div.sk-toggleable__content {max-height: 0;max-width: 0;overflow: hidden;text-align: left;background-color: #f0f8ff;}#sk-container-id-9 div.sk-toggleable__content pre {margin: 0.2em;color: black;border-radius: 0.25em;background-color: #f0f8ff;}#sk-container-id-9 input.sk-toggleable__control:checked~div.sk-toggleable__content {max-height: 200px;max-width: 100%;overflow: auto;}#sk-container-id-9 input.sk-toggleable__control:checked~label.sk-toggleable__label-arrow:before {content: \"▾\";}#sk-container-id-9 div.sk-estimator input.sk-toggleable__control:checked~label.sk-toggleable__label {background-color: #d4ebff;}#sk-container-id-9 div.sk-label input.sk-toggleable__control:checked~label.sk-toggleable__label {background-color: #d4ebff;}#sk-container-id-9 input.sk-hidden--visually {border: 0;clip: rect(1px 1px 1px 1px);clip: rect(1px, 1px, 1px, 1px);height: 1px;margin: -1px;overflow: hidden;padding: 0;position: absolute;width: 1px;}#sk-container-id-9 div.sk-estimator {font-family: monospace;background-color: #f0f8ff;border: 1px dotted black;border-radius: 0.25em;box-sizing: border-box;margin-bottom: 0.5em;}#sk-container-id-9 div.sk-estimator:hover {background-color: #d4ebff;}#sk-container-id-9 div.sk-parallel-item::after {content: \"\";width: 100%;border-bottom: 1px solid gray;flex-grow: 1;}#sk-container-id-9 div.sk-label:hover label.sk-toggleable__label {background-color: #d4ebff;}#sk-container-id-9 div.sk-serial::before {content: \"\";position: absolute;border-left: 1px solid gray;box-sizing: border-box;top: 0;bottom: 0;left: 50%;z-index: 0;}#sk-container-id-9 div.sk-serial {display: flex;flex-direction: column;align-items: center;background-color: white;padding-right: 0.2em;padding-left: 0.2em;position: relative;}#sk-container-id-9 div.sk-item {position: relative;z-index: 1;}#sk-container-id-9 div.sk-parallel {display: flex;align-items: stretch;justify-content: center;background-color: white;position: relative;}#sk-container-id-9 div.sk-item::before, #sk-container-id-9 div.sk-parallel-item::before {content: \"\";position: absolute;border-left: 1px solid gray;box-sizing: border-box;top: 0;bottom: 0;left: 50%;z-index: -1;}#sk-container-id-9 div.sk-parallel-item {display: flex;flex-direction: column;z-index: 1;position: relative;background-color: white;}#sk-container-id-9 div.sk-parallel-item:first-child::after {align-self: flex-end;width: 50%;}#sk-container-id-9 div.sk-parallel-item:last-child::after {align-self: flex-start;width: 50%;}#sk-container-id-9 div.sk-parallel-item:only-child::after {width: 0;}#sk-container-id-9 div.sk-dashed-wrapped {border: 1px dashed gray;margin: 0 0.4em 0.5em 0.4em;box-sizing: border-box;padding-bottom: 0.4em;background-color: white;}#sk-container-id-9 div.sk-label label {font-family: monospace;font-weight: bold;display: inline-block;line-height: 1.2em;}#sk-container-id-9 div.sk-label-container {text-align: center;}#sk-container-id-9 div.sk-container {/* jupyter's `normalize.less` sets `[hidden] { display: none; }` but bootstrap.min.css set `[hidden] { display: none !important; }` so we also need the `!important` here to be able to override the default hidden behavior on the sphinx rendered scikit-learn.org. See: https://github.com/scikit-learn/scikit-learn/issues/21755 */display: inline-block !important;position: relative;}#sk-container-id-9 div.sk-text-repr-fallback {display: none;}</style><div id=\"sk-container-id-9\" class=\"sk-top-container\"><div class=\"sk-text-repr-fallback\"><pre>MultinomialNB(alpha=0.1)</pre><b>In a Jupyter environment, please rerun this cell to show the HTML representation or trust the notebook. <br />On GitHub, the HTML representation is unable to render, please try loading this page with nbviewer.org.</b></div><div class=\"sk-container\" hidden><div class=\"sk-item\"><div class=\"sk-estimator sk-toggleable\"><input class=\"sk-toggleable__control sk-hidden--visually\" id=\"sk-estimator-id-9\" type=\"checkbox\" checked><label for=\"sk-estimator-id-9\" class=\"sk-toggleable__label sk-toggleable__label-arrow\">MultinomialNB</label><div class=\"sk-toggleable__content\"><pre>MultinomialNB(alpha=0.1)</pre></div></div></div></div></div>"
      ],
      "text/plain": [
       "MultinomialNB(alpha=0.1)"
      ]
     },
     "execution_count": 69,
     "metadata": {},
     "output_type": "execute_result"
    }
   ],
   "source": [
    "# performing grid search on best smoothing parameter\n",
    "from sklearn.model_selection import GridSearchCV\n",
    "\n",
    "# Define the parameter grid\n",
    "param_grid = {'alpha': [0.1, 0.5, 1.0, 2.0, 5.0, 10.0]}\n",
    "\n",
    "# Create the GridSearchCV object\n",
    "grid_search = GridSearchCV(MultinomialNB(), param_grid, cv=5, scoring='accuracy')\n",
    "\n",
    "# Fit the model with different alpha values\n",
    "grid_search.fit(X_train_bow, y_train)\n",
    "\n",
    "# Get the best alpha value\n",
    "best_alpha = grid_search.best_params_['alpha']\n",
    "\n",
    "# Train the model with the best alpha value\n",
    "nb_model_hp = MultinomialNB(alpha=best_alpha)\n",
    "nb_model_hp.fit(X_train_bow, y_train)"
   ]
  },
  {
   "cell_type": "code",
   "execution_count": 70,
   "id": "d28b9d25-7e99-4a9f-be81-6fb0ea0ab83d",
   "metadata": {},
   "outputs": [],
   "source": [
    "# Make predictions on the test set\n",
    "y_pred = nb_model_hp.predict(X_development_bow)"
   ]
  },
  {
   "cell_type": "code",
   "execution_count": 71,
   "id": "70394946-8d97-4cfc-80ef-88f8f40a901d",
   "metadata": {},
   "outputs": [
    {
     "name": "stdout",
     "output_type": "stream",
     "text": [
      "Accuracy: 0.40942513368983957\n",
      "Classification Report:\n",
      "               precision    recall  f1-score   support\n",
      "\n",
      "           0       0.43      0.46      0.45       536\n",
      "           1       0.40      0.15      0.21       240\n",
      "           2       0.40      0.18      0.25       423\n",
      "           3       0.39      0.49      0.43       416\n",
      "           4       0.69      0.11      0.19        81\n",
      "           5       0.43      0.22      0.29       227\n",
      "           6       0.80      0.97      0.88        29\n",
      "           7       0.95      0.95      0.95        19\n",
      "           8       0.90      0.42      0.58        90\n",
      "           9       0.37      0.60      0.46       865\n",
      "          10       0.47      0.14      0.21        66\n",
      "\n",
      "    accuracy                           0.41      2992\n",
      "   macro avg       0.57      0.42      0.44      2992\n",
      "weighted avg       0.43      0.41      0.39      2992\n",
      "\n"
     ]
    }
   ],
   "source": [
    "# Evaluate accuracy and other metrics\n",
    "accuracy = accuracy_score(y_dev, y_pred)\n",
    "report = classification_report(y_dev, y_pred)\n",
    "\n",
    "print(f'Accuracy: {accuracy}')\n",
    "print('Classification Report:\\n', report)\n"
   ]
  },
  {
   "cell_type": "markdown",
   "id": "c4b05778-dae2-4a48-98ea-d7140ae78026",
   "metadata": {},
   "source": [
    "Trying more features to increase model complexity."
   ]
  },
  {
   "cell_type": "code",
   "execution_count": 72,
   "id": "e9949efe-af94-4cda-9b4b-13de9953124c",
   "metadata": {},
   "outputs": [
    {
     "name": "stdout",
     "output_type": "stream",
     "text": [
      "Number of unigram 44731\n"
     ]
    }
   ],
   "source": [
    "from sklearn.feature_extraction.text import CountVectorizer\n",
    "vectorizer = CountVectorizer(binary=True, min_df=1)\n",
    "training_text = training['processed_description']\n",
    "development_text = development['processed_description']\n",
    "\n",
    "X_train_bow_complex = vectorizer.fit_transform(training_text)\n",
    "X_development_bow_complex = vectorizer.transform(development_text)\n",
    "\n",
    "print('Number of unigram', len(vectorizer.get_feature_names_out()))"
   ]
  },
  {
   "cell_type": "code",
   "execution_count": 73,
   "id": "7f1faafc-baf5-43cb-b08a-2b9a62c2c933",
   "metadata": {},
   "outputs": [
    {
     "data": {
      "text/html": [
       "<style>#sk-container-id-10 {color: black;}#sk-container-id-10 pre{padding: 0;}#sk-container-id-10 div.sk-toggleable {background-color: white;}#sk-container-id-10 label.sk-toggleable__label {cursor: pointer;display: block;width: 100%;margin-bottom: 0;padding: 0.3em;box-sizing: border-box;text-align: center;}#sk-container-id-10 label.sk-toggleable__label-arrow:before {content: \"▸\";float: left;margin-right: 0.25em;color: #696969;}#sk-container-id-10 label.sk-toggleable__label-arrow:hover:before {color: black;}#sk-container-id-10 div.sk-estimator:hover label.sk-toggleable__label-arrow:before {color: black;}#sk-container-id-10 div.sk-toggleable__content {max-height: 0;max-width: 0;overflow: hidden;text-align: left;background-color: #f0f8ff;}#sk-container-id-10 div.sk-toggleable__content pre {margin: 0.2em;color: black;border-radius: 0.25em;background-color: #f0f8ff;}#sk-container-id-10 input.sk-toggleable__control:checked~div.sk-toggleable__content {max-height: 200px;max-width: 100%;overflow: auto;}#sk-container-id-10 input.sk-toggleable__control:checked~label.sk-toggleable__label-arrow:before {content: \"▾\";}#sk-container-id-10 div.sk-estimator input.sk-toggleable__control:checked~label.sk-toggleable__label {background-color: #d4ebff;}#sk-container-id-10 div.sk-label input.sk-toggleable__control:checked~label.sk-toggleable__label {background-color: #d4ebff;}#sk-container-id-10 input.sk-hidden--visually {border: 0;clip: rect(1px 1px 1px 1px);clip: rect(1px, 1px, 1px, 1px);height: 1px;margin: -1px;overflow: hidden;padding: 0;position: absolute;width: 1px;}#sk-container-id-10 div.sk-estimator {font-family: monospace;background-color: #f0f8ff;border: 1px dotted black;border-radius: 0.25em;box-sizing: border-box;margin-bottom: 0.5em;}#sk-container-id-10 div.sk-estimator:hover {background-color: #d4ebff;}#sk-container-id-10 div.sk-parallel-item::after {content: \"\";width: 100%;border-bottom: 1px solid gray;flex-grow: 1;}#sk-container-id-10 div.sk-label:hover label.sk-toggleable__label {background-color: #d4ebff;}#sk-container-id-10 div.sk-serial::before {content: \"\";position: absolute;border-left: 1px solid gray;box-sizing: border-box;top: 0;bottom: 0;left: 50%;z-index: 0;}#sk-container-id-10 div.sk-serial {display: flex;flex-direction: column;align-items: center;background-color: white;padding-right: 0.2em;padding-left: 0.2em;position: relative;}#sk-container-id-10 div.sk-item {position: relative;z-index: 1;}#sk-container-id-10 div.sk-parallel {display: flex;align-items: stretch;justify-content: center;background-color: white;position: relative;}#sk-container-id-10 div.sk-item::before, #sk-container-id-10 div.sk-parallel-item::before {content: \"\";position: absolute;border-left: 1px solid gray;box-sizing: border-box;top: 0;bottom: 0;left: 50%;z-index: -1;}#sk-container-id-10 div.sk-parallel-item {display: flex;flex-direction: column;z-index: 1;position: relative;background-color: white;}#sk-container-id-10 div.sk-parallel-item:first-child::after {align-self: flex-end;width: 50%;}#sk-container-id-10 div.sk-parallel-item:last-child::after {align-self: flex-start;width: 50%;}#sk-container-id-10 div.sk-parallel-item:only-child::after {width: 0;}#sk-container-id-10 div.sk-dashed-wrapped {border: 1px dashed gray;margin: 0 0.4em 0.5em 0.4em;box-sizing: border-box;padding-bottom: 0.4em;background-color: white;}#sk-container-id-10 div.sk-label label {font-family: monospace;font-weight: bold;display: inline-block;line-height: 1.2em;}#sk-container-id-10 div.sk-label-container {text-align: center;}#sk-container-id-10 div.sk-container {/* jupyter's `normalize.less` sets `[hidden] { display: none; }` but bootstrap.min.css set `[hidden] { display: none !important; }` so we also need the `!important` here to be able to override the default hidden behavior on the sphinx rendered scikit-learn.org. See: https://github.com/scikit-learn/scikit-learn/issues/21755 */display: inline-block !important;position: relative;}#sk-container-id-10 div.sk-text-repr-fallback {display: none;}</style><div id=\"sk-container-id-10\" class=\"sk-top-container\"><div class=\"sk-text-repr-fallback\"><pre>MultinomialNB(alpha=0.1)</pre><b>In a Jupyter environment, please rerun this cell to show the HTML representation or trust the notebook. <br />On GitHub, the HTML representation is unable to render, please try loading this page with nbviewer.org.</b></div><div class=\"sk-container\" hidden><div class=\"sk-item\"><div class=\"sk-estimator sk-toggleable\"><input class=\"sk-toggleable__control sk-hidden--visually\" id=\"sk-estimator-id-10\" type=\"checkbox\" checked><label for=\"sk-estimator-id-10\" class=\"sk-toggleable__label sk-toggleable__label-arrow\">MultinomialNB</label><div class=\"sk-toggleable__content\"><pre>MultinomialNB(alpha=0.1)</pre></div></div></div></div></div>"
      ],
      "text/plain": [
       "MultinomialNB(alpha=0.1)"
      ]
     },
     "execution_count": 73,
     "metadata": {},
     "output_type": "execute_result"
    }
   ],
   "source": [
    "# performing grid search on best smoothing parameter\n",
    "from sklearn.model_selection import GridSearchCV\n",
    "\n",
    "# Define the parameter grid\n",
    "param_grid = {'alpha': [0.1, 0.5, 1.0, 2.0, 5.0, 10.0]}\n",
    "\n",
    "# Create the GridSearchCV object\n",
    "grid_search = GridSearchCV(MultinomialNB(), param_grid, cv=5, scoring='accuracy')\n",
    "\n",
    "# Fit the model with different alpha values\n",
    "grid_search.fit(X_train_bow_complex, y_train)\n",
    "\n",
    "# Get the best alpha value\n",
    "best_alpha = grid_search.best_params_['alpha']\n",
    "\n",
    "# Train the model with the best alpha value\n",
    "nb_model_c = MultinomialNB(alpha=best_alpha)\n",
    "nb_model_c.fit(X_train_bow_complex, y_train)"
   ]
  },
  {
   "cell_type": "code",
   "execution_count": 74,
   "id": "6a655ca9-408f-486c-a331-6db6c82187d8",
   "metadata": {},
   "outputs": [],
   "source": [
    "# Make predictions on the test set\n",
    "y_pred = nb_model_c.predict(X_development_bow_complex)"
   ]
  },
  {
   "cell_type": "code",
   "execution_count": 75,
   "id": "b9781d05-d301-4d36-80f1-63134751f45f",
   "metadata": {},
   "outputs": [
    {
     "name": "stdout",
     "output_type": "stream",
     "text": [
      "Accuracy: 0.4047459893048128\n",
      "Classification Report:\n",
      "               precision    recall  f1-score   support\n",
      "\n",
      "           0       0.41      0.45      0.43       536\n",
      "           1       0.47      0.13      0.20       240\n",
      "           2       0.43      0.17      0.24       423\n",
      "           3       0.39      0.49      0.43       416\n",
      "           4       0.86      0.07      0.14        81\n",
      "           5       0.43      0.17      0.25       227\n",
      "           6       0.80      0.97      0.88        29\n",
      "           7       0.95      0.95      0.95        19\n",
      "           8       0.90      0.42      0.58        90\n",
      "           9       0.36      0.61      0.46       865\n",
      "          10       1.00      0.11      0.19        66\n",
      "\n",
      "    accuracy                           0.40      2992\n",
      "   macro avg       0.64      0.41      0.43      2992\n",
      "weighted avg       0.45      0.40      0.38      2992\n",
      "\n"
     ]
    }
   ],
   "source": [
    "# Evaluate accuracy and other metrics\n",
    "accuracy = accuracy_score(y_dev, y_pred)\n",
    "report = classification_report(y_dev, y_pred)\n",
    "\n",
    "print(f'Accuracy: {accuracy}')\n",
    "print('Classification Report:\\n', report)\n"
   ]
  },
  {
   "cell_type": "code",
   "execution_count": 77,
   "id": "c8b5f54a-358d-4760-a891-046a9cdc9f66",
   "metadata": {},
   "outputs": [],
   "source": [
    "y_pred_train = nb_model_c.predict(X_train_bow_complex)"
   ]
  },
  {
   "cell_type": "code",
   "execution_count": 78,
   "id": "f41ee489-b1cc-429c-8fcb-873b4a74ed07",
   "metadata": {},
   "outputs": [
    {
     "name": "stdout",
     "output_type": "stream",
     "text": [
      "Accuracy: 0.9540048717581315\n",
      "Classification Report:\n",
      "               precision    recall  f1-score   support\n",
      "\n",
      "           0       0.99      0.93      0.96      1383\n",
      "           1       0.99      1.00      0.99       533\n",
      "           2       0.94      0.98      0.96       970\n",
      "           3       0.95      0.93      0.94       984\n",
      "           4       0.93      0.99      0.96       158\n",
      "           5       0.98      0.99      0.98       480\n",
      "           6       1.00      1.00      1.00        69\n",
      "           7       0.96      1.00      0.98        50\n",
      "           8       0.59      0.99      0.74       117\n",
      "           9       0.96      0.94      0.95      2139\n",
      "          10       0.97      0.99      0.98        96\n",
      "\n",
      "    accuracy                           0.95      6979\n",
      "   macro avg       0.93      0.98      0.95      6979\n",
      "weighted avg       0.96      0.95      0.96      6979\n",
      "\n"
     ]
    }
   ],
   "source": [
    "# Evaluate accuracy and other metrics\n",
    "accuracy = accuracy_score(y_pred_train, y_train)\n",
    "report = classification_report(y_pred_train, y_train)\n",
    "\n",
    "print(f'Accuracy: {accuracy}')\n",
    "print('Classification Report:\\n', report)"
   ]
  },
  {
   "cell_type": "code",
   "execution_count": null,
   "id": "9493893d-ede5-49a3-bee1-2622850144f9",
   "metadata": {},
   "outputs": [],
   "source": []
  },
  {
   "cell_type": "code",
   "execution_count": null,
   "id": "e9d46585-dee5-41d2-a845-78b65395d7fc",
   "metadata": {},
   "outputs": [],
   "source": []
  }
 ],
 "metadata": {
  "kernelspec": {
   "display_name": "Python 3 (ipykernel)",
   "language": "python",
   "name": "python3"
  },
  "language_info": {
   "codemirror_mode": {
    "name": "ipython",
    "version": 3
   },
   "file_extension": ".py",
   "mimetype": "text/x-python",
   "name": "python",
   "nbconvert_exporter": "python",
   "pygments_lexer": "ipython3",
   "version": "3.10.12"
  }
 },
 "nbformat": 4,
 "nbformat_minor": 5
}
